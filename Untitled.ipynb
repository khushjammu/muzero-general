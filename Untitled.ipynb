{
 "cells": [
  {
   "cell_type": "code",
   "execution_count": 15,
   "id": "97961957",
   "metadata": {},
   "outputs": [],
   "source": [
    "import rlax\n",
    "import jax\n",
    "import jax.numpy as jnp\n",
    "import haiku as hk\n",
    "\n",
    "import numpy as np\n",
    "import torch\n",
    "import pickle"
   ]
  },
  {
   "cell_type": "code",
   "execution_count": 16,
   "id": "08417716",
   "metadata": {},
   "outputs": [],
   "source": [
    "observation_history = [jnp.array([[[-0.04456399, 0.04653909, 0.01326909, -0.02099827]]]), jnp.array([[[-0.04363321, 0.24146826, 0.01284913, -0.30946528]]]), jnp.array([[[-0.03880385, 0.43640481, 0.00665982, -0.59806842]]]), jnp.array([[[-0.03007575, 0.63143294, -0.00530154, -0.88864615]]]), jnp.array([[[-0.01744709, 0.82662643, -0.02307447, -1.18299093]]]), jnp.array([[[-9.14563642e-04, 1.02204008e+00, -4.67342864e-02, -1.48281666e+00]]]), jnp.array([[[ 0.01952624, 1.21769983, -0.07639062, -1.78972072]]]), jnp.array([[[ 0.04388023, 1.41359111, -0.11218503, -2.10513771]]]), jnp.array([[[ 0.07215206, 1.21975833, -0.15428779, -1.84912949]]]), jnp.array([[[ 0.09654722, 1.41620593, -0.19127038, -2.18548141]]]), jnp.array([[[ 0.12487134, 1.22338469, -0.23498001, -1.95741538]]])] \n",
    "action_history = [0, 1, 1, 1, 1, 1, 1, 1, 0, 1, 0] \n",
    "reward_history = [0, 1.0, 1.0, 1.0, 1.0, 1.0, 1.0, 1.0, 1.0, 1.0, 1.0]\n",
    "value_history = [-3.2119569395497165, -3.1710120400339337, -3.035995497179961, -3.1671986943940893, -3.222115983286406, -3.2947817519433764, -3.325209473636467, -3.3491226949236212, -3.3378977022830107, -3.367473025429131]\n",
    "discount = 0.997"
   ]
  },
  {
   "cell_type": "code",
   "execution_count": 40,
   "id": "906ff89d",
   "metadata": {},
   "outputs": [
    {
     "data": {
      "text/plain": [
       "11"
      ]
     },
     "execution_count": 40,
     "metadata": {},
     "output_type": "execute_result"
    }
   ],
   "source": [
    "len(reward_history)"
   ]
  },
  {
   "cell_type": "code",
   "execution_count": 18,
   "id": "7b671546",
   "metadata": {},
   "outputs": [],
   "source": [
    "target_value = 4.970089865081"
   ]
  },
  {
   "cell_type": "code",
   "execution_count": 37,
   "id": "e81ec10f",
   "metadata": {},
   "outputs": [],
   "source": [
    "dr = rlax.discounted_returns(\n",
    "    jnp.array(reward_history[index+1 : 55]),\n",
    "    jnp.array([0.997 ** i for i in range(0, len(reward_history[index+1:55]))]),\n",
    "    jnp.array(0.)\n",
    "#     value_history[-1]\n",
    "#     r_t: Array,\n",
    "#     discount_t: Array,\n",
    "#     v_t: Array,\n",
    ")"
   ]
  },
  {
   "cell_type": "code",
   "execution_count": 39,
   "id": "3b3f3dd7",
   "metadata": {},
   "outputs": [
    {
     "data": {
      "text/plain": [
       "4.970149556795756"
      ]
     },
     "execution_count": 39,
     "metadata": {},
     "output_type": "execute_result"
    }
   ],
   "source": [
    "sum(dr)/3"
   ]
  },
  {
   "cell_type": "code",
   "execution_count": 32,
   "id": "893070c4",
   "metadata": {},
   "outputs": [
    {
     "data": {
      "text/plain": [
       "4.970089865081"
      ]
     },
     "execution_count": 32,
     "metadata": {},
     "output_type": "execute_result"
    }
   ],
   "source": [
    "dr = 0\n",
    "index = 5\n",
    "\n",
    "# this assumes you want the bootstrap across the WHOLE stonks\n",
    "for i, reward in enumerate(reward_history[index+1 : 55]):\n",
    "    dr += reward * (discount ** i)\n",
    "\n",
    "# dr += value_history[-1] * (discount ** 11)\n",
    "dr"
   ]
  },
  {
   "cell_type": "code",
   "execution_count": 41,
   "id": "cb83c46a",
   "metadata": {},
   "outputs": [],
   "source": [
    "def calculate_target_value(rewards, discount, bootstrap_values, K, n):\n",
    "    \"\"\"Works for a single mini-batch.\n",
    "\n",
    "    You have an array of rewards for the entire sequence. Your goal\n",
    "    is to calculate the target value for the first K steps\n",
    "\n",
    "    Args:\n",
    "    - rewards: array\n",
    "    - discount: scalar\n",
    "    - bootstrap_values: array\n",
    "    \"\"\"\n",
    "\n",
    "    target_values = []\n",
    "\n",
    "    # Calculate the target value for every k of K steps\n",
    "    for k in range(K):\n",
    "        # Slice the appropriate range of rewards for the given step\n",
    "        reward_sliced = rewards[k: k + n]\n",
    "\n",
    "        # Bootstrap with the appropriate target value\n",
    "        t_v = bootstrap_values[-K + k] * (discount ** n)\n",
    "\n",
    "        for i, reward in enumerate(reward_sliced):\n",
    "            t_v += reward * (discount ** i)\n",
    "\n",
    "        target_values.append(t_v)\n",
    "\n",
    "    return jnp.stack(target_values)"
   ]
  },
  {
   "cell_type": "code",
   "execution_count": 49,
   "id": "938fc81e",
   "metadata": {},
   "outputs": [
    {
     "data": {
      "text/plain": [
       "DeviceArray([7.0012703, 7.0046854, 6.0107856, 5.0441947, 4.0395565],            dtype=float32, weak_type=True)"
      ]
     },
     "execution_count": 49,
     "metadata": {},
     "output_type": "execute_result"
    }
   ],
   "source": [
    "calculate_target_value(\n",
    "    reward_history,\n",
    "    0.997,\n",
    "    value_history,\n",
    "    5,\n",
    "    50\n",
    ")"
   ]
  },
  {
   "cell_type": "markdown",
   "id": "9e486f65",
   "metadata": {},
   "source": [
    "# Things I Find Suspicious\n",
    "* Why does werner's value_history have a length of 1 less than all the other histories?\n",
    "* Will our sequence adder (with a period of 1) add timesteps beyond the terminal state? (note it should)"
   ]
  },
  {
   "cell_type": "code",
   "execution_count": null,
   "id": "52b88fe1",
   "metadata": {},
   "outputs": [],
   "source": []
  }
 ],
 "metadata": {
  "kernelspec": {
   "display_name": "Python 3 (ipykernel)",
   "language": "python",
   "name": "python3"
  },
  "language_info": {
   "codemirror_mode": {
    "name": "ipython",
    "version": 3
   },
   "file_extension": ".py",
   "mimetype": "text/x-python",
   "name": "python",
   "nbconvert_exporter": "python",
   "pygments_lexer": "ipython3",
   "version": "3.7.11"
  }
 },
 "nbformat": 4,
 "nbformat_minor": 5
}
