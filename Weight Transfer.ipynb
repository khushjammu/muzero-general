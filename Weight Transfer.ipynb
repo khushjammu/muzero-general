{
 "cells": [
  {
   "cell_type": "markdown",
   "id": "325dc7f6",
   "metadata": {},
   "source": [
    "# PyTorch to Jax/Haiku Weight Transfer (POC)\n",
    "\n",
    "Proof of concept transferring the weights of Werner Duvaud's networks to a Jax implementation."
   ]
  },
  {
   "cell_type": "markdown",
   "id": "5e8e1165",
   "metadata": {},
   "source": [
    "## Imports and instantiation"
   ]
  },
  {
   "cell_type": "code",
   "execution_count": 1,
   "id": "e6f1d4bf",
   "metadata": {},
   "outputs": [],
   "source": [
    "# WERNER IMPORTS\n",
    "import models\n",
    "from games.cartpole import MuZeroConfig\n",
    "\n",
    "# JAX IMPORTS\n",
    "import jax\n",
    "import jax.numpy as jnp\n",
    "import haiku as hk\n",
    "import numpy as np"
   ]
  },
  {
   "cell_type": "code",
   "execution_count": 2,
   "id": "4bd30aec",
   "metadata": {},
   "outputs": [],
   "source": [
    "config = MuZeroConfig()"
   ]
  },
  {
   "cell_type": "code",
   "execution_count": 3,
   "id": "bfcbebc5",
   "metadata": {},
   "outputs": [],
   "source": [
    "model = models.MuZeroNetwork(config)\n",
    "s = model.state_dict()"
   ]
  },
  {
   "cell_type": "markdown",
   "id": "dbba39be",
   "metadata": {},
   "source": [
    "## Parse the PyTorch weights\n",
    "\n",
    "We rename it to conform to Haiku conventions and cast to `jnp.array`."
   ]
  },
  {
   "cell_type": "code",
   "execution_count": 4,
   "id": "d3fd2126",
   "metadata": {},
   "outputs": [
    {
     "name": "stderr",
     "output_type": "stream",
     "text": [
      "WARNING:absl:No GPU/TPU found, falling back to CPU. (Set TF_CPP_MIN_LOG_LEVEL=0 and rerun for more info.)\n"
     ]
    },
    {
     "data": {
      "text/plain": [
       "['representation/~/mlp/~/linear_0',\n",
       " 'dynamics_encoded_state/~/mlp/~/linear_0',\n",
       " 'dynamics_encoded_state/~/mlp/~/linear_1',\n",
       " 'dynamics_reward/~/mlp/~/linear_0',\n",
       " 'dynamics_reward/~/mlp/~/linear_1',\n",
       " 'prediction_policy/~/mlp/~/linear_0',\n",
       " 'prediction_policy/~/mlp/~/linear_1',\n",
       " 'prediction_value/~/mlp/~/linear_0',\n",
       " 'prediction_value/~/mlp/~/linear_1']"
      ]
     },
     "execution_count": 4,
     "metadata": {},
     "output_type": "execute_result"
    }
   ],
   "source": [
    "parsed_pytorch_weights = {}\n",
    "\n",
    "for key, value in s.items():\n",
    "    split = key.split(\".\")\n",
    "    new_key = f\"{'_'.join(split[0].split('_')[:-1])}/~/mlp/~/linear_{int(int(split[-2])/2)}\"\n",
    "    \n",
    "    value_to_set = jnp.array(value) if split[-1][0] == \"b\" else jnp.array(value).T\n",
    "    \n",
    "    if new_key not in parsed_pytorch_weights.keys():\n",
    "        parsed_pytorch_weights[new_key] = {\n",
    "            split[-1][0]: value_to_set\n",
    "        }\n",
    "    else:\n",
    "        parsed_pytorch_weights[new_key][split[-1][0]] = value_to_set\n",
    "\n",
    "list(parsed_pytorch_weights.keys())"
   ]
  },
  {
   "cell_type": "markdown",
   "id": "4336e942",
   "metadata": {},
   "source": [
    "## Define the networks"
   ]
  },
  {
   "cell_type": "code",
   "execution_count": 5,
   "id": "e2aa4be5",
   "metadata": {},
   "outputs": [],
   "source": [
    "class Representation(hk.Module):\n",
    "    def __init__(self):\n",
    "        super().__init__()\n",
    "        self.fc = hk.nets.MLP([8])\n",
    "        \n",
    "    def __call__(self, x):\n",
    "        return self.fc(x)"
   ]
  },
  {
   "cell_type": "code",
   "execution_count": 6,
   "id": "b42b51cf",
   "metadata": {},
   "outputs": [],
   "source": [
    "class DynamicsEncodedState(hk.Module):\n",
    "    def __init__(self):\n",
    "        super().__init__()\n",
    "        self.fc = hk.nets.MLP([16, 8], activation=jax.nn.elu)\n",
    "        \n",
    "    def __call__(self, x):\n",
    "        return self.fc(x)"
   ]
  },
  {
   "cell_type": "code",
   "execution_count": 7,
   "id": "6d5a59d3",
   "metadata": {},
   "outputs": [],
   "source": [
    "class DynamicsReward(hk.Module):\n",
    "    def __init__(self):\n",
    "        super().__init__()\n",
    "        self.fc = hk.nets.MLP([16, 21], activation=jax.nn.elu)\n",
    "        \n",
    "    def __call__(self, x):\n",
    "        return self.fc(x)"
   ]
  },
  {
   "cell_type": "code",
   "execution_count": 8,
   "id": "39d57e48",
   "metadata": {},
   "outputs": [],
   "source": [
    "class PredictionPolicy(hk.Module):\n",
    "    def __init__(self):\n",
    "        super().__init__()\n",
    "        self.fc = hk.nets.MLP([16, 2], activation=jax.nn.elu)\n",
    "        \n",
    "    def __call__(self, x):\n",
    "        return self.fc(x)"
   ]
  },
  {
   "cell_type": "code",
   "execution_count": 9,
   "id": "d6694827",
   "metadata": {},
   "outputs": [],
   "source": [
    "class PredictionValue(hk.Module):\n",
    "    def __init__(self):\n",
    "        super().__init__()\n",
    "        self.fc = hk.nets.MLP([16, 21], activation=jax.nn.elu)\n",
    "        \n",
    "    def __call__(self, x):\n",
    "        return self.fc(x)"
   ]
  },
  {
   "cell_type": "markdown",
   "id": "6bab156d",
   "metadata": {},
   "source": [
    "We just test one here. You'd obviously want to instantiate each with the correct dummy dimensions."
   ]
  },
  {
   "cell_type": "code",
   "execution_count": 10,
   "id": "35c65707",
   "metadata": {
    "scrolled": false
   },
   "outputs": [],
   "source": [
    "def f(x):\n",
    "    r = PredictionValue()\n",
    "    return r(x)\n",
    "\n",
    "f = hk.transform(f)\n",
    "dummy_obs = jnp.zeros((1, 8)) # should be (1, 4) for representation network\n",
    "rng_key = jax.random.PRNGKey(42)\n",
    "\n",
    "params = f.init(rng_key, dummy_obs)"
   ]
  },
  {
   "cell_type": "markdown",
   "id": "7350ce57",
   "metadata": {},
   "source": [
    "## Automatic weight transfer"
   ]
  },
  {
   "cell_type": "code",
   "execution_count": 11,
   "id": "556332d5",
   "metadata": {},
   "outputs": [],
   "source": [
    "mod_params = hk.data_structures.to_mutable_dict(params)"
   ]
  },
  {
   "cell_type": "code",
   "execution_count": 12,
   "id": "77e6e9d9",
   "metadata": {},
   "outputs": [],
   "source": [
    "# GENERAL PURPOSE WEIGHT TRANSFER (works for all networks, assuming you're using the combined state_dict)\n",
    "for k, v in mod_params.items():\n",
    "    mod_params[k] = parsed_pytorch_weights[k]"
   ]
  },
  {
   "cell_type": "markdown",
   "id": "161de7b2",
   "metadata": {},
   "source": [
    "## Test network with new parameters"
   ]
  },
  {
   "cell_type": "code",
   "execution_count": 13,
   "id": "69f606e0",
   "metadata": {},
   "outputs": [
    {
     "data": {
      "text/plain": [
       "DeviceArray([[-0.32268435, -0.13136506, -0.00575749, -0.12883782,\n",
       "              -0.14013603,  0.16850004,  0.23229945, -0.02030243,\n",
       "              -0.09497203,  0.1749499 ,  0.2773396 , -0.634164  ,\n",
       "              -0.4616676 , -0.23096934,  0.30355474, -0.42916992,\n",
       "               0.17451528,  0.26546034, -0.06063245, -0.2616744 ,\n",
       "              -0.24721263]], dtype=float32)"
      ]
     },
     "execution_count": 13,
     "metadata": {},
     "output_type": "execute_result"
    }
   ],
   "source": [
    "# you'd want to insert a breakpoint into Werner's model to get an input/output pair\n",
    "# so you can test. our network should produce the exact same output (rounding excepted).\n",
    "\n",
    "test_obs = jnp.array([[0.3075, 0.2620, 1.0000, 0.0000, 0.9065, 0.9287, 0.0450, 0.7008]])\n",
    "f.apply(mod_params, None, test_obs)"
   ]
  },
  {
   "cell_type": "markdown",
   "id": "6b24547d",
   "metadata": {},
   "source": [
    "## Manual weight transfer\n",
    "\n",
    "You probably don't need this, but it's here just in case."
   ]
  },
  {
   "cell_type": "code",
   "execution_count": 14,
   "id": "36e258a3",
   "metadata": {},
   "outputs": [],
   "source": [
    "# mod_params['prediction_value/~/mlp/~/linear_0']['w'] = temp_p['module.0.weight'].T\n",
    "# mod_params['prediction_value/~/mlp/~/linear_0']['b'] = temp_p['module.0.bias']\n",
    "# mod_params['prediction_value/~/mlp/~/linear_1']['w'] = temp_p['module.2.weight'].T\n",
    "# mod_params['prediction_value/~/mlp/~/linear_1']['b'] = temp_p['module.2.bias']"
   ]
  },
  {
   "cell_type": "code",
   "execution_count": 15,
   "id": "e3a704d4",
   "metadata": {},
   "outputs": [],
   "source": [
    "# mod_params['prediction_policy/~/mlp/~/linear_0']['w'] = temp_p['module.0.weight'].T\n",
    "# mod_params['prediction_policy/~/mlp/~/linear_0']['b'] = temp_p['module.0.bias']\n",
    "# mod_params['prediction_policy/~/mlp/~/linear_1']['w'] = temp_p['module.2.weight'].T\n",
    "# mod_params['prediction_policy/~/mlp/~/linear_1']['b'] = temp_p['module.2.bias']"
   ]
  },
  {
   "cell_type": "code",
   "execution_count": 16,
   "id": "21680201",
   "metadata": {},
   "outputs": [],
   "source": [
    "# mod_params['dynamics_state/~/mlp/~/linear_0']['w'] = temp_p['module.0.weight'].T\n",
    "# mod_params['dynamics_state/~/mlp/~/linear_0']['b'] = temp_p['module.0.bias']\n",
    "# mod_params['dynamics_state/~/mlp/~/linear_1']['w'] = temp_p['module.2.weight'].T\n",
    "# mod_params['dynamics_state/~/mlp/~/linear_1']['b'] = temp_p['module.2.bias']\n",
    "\n",
    "# mod_params['dynamics_reward/~/mlp/~/linear_0']['w'] = temp_p['module.0.weight'].T\n",
    "# mod_params['dynamics_reward/~/mlp/~/linear_0']['b'] = temp_p['module.0.bias']\n",
    "# mod_params['dynamics_reward/~/mlp/~/linear_1']['w'] = temp_p['module.2.weight'].T\n",
    "# mod_params['dynamics_reward/~/mlp/~/linear_1']['b'] = temp_p['module.2.bias']"
   ]
  },
  {
   "cell_type": "code",
   "execution_count": 17,
   "id": "f3209918",
   "metadata": {},
   "outputs": [],
   "source": [
    "# mod_params['representation/~/mlp/~/linear_0']['w'] = jnp.array([[ 0.4536,  0.3991, -0.0396,  0.2076],\n",
    "#         [-0.2074,  0.3541,  0.3898, -0.1555],\n",
    "#         [ 0.3405, -0.0368, -0.0834,  0.2472],\n",
    "#         [-0.3188,  0.4464,  0.4505, -0.0251],\n",
    "#         [-0.2798, -0.2960,  0.2525,  0.1830],\n",
    "#         [ 0.4745, -0.3207,  0.0425, -0.3299],\n",
    "#         [ 0.4757, -0.1136, -0.0694,  0.4792],\n",
    "#         [ 0.1024,  0.0567,  0.2998, -0.2345]]).T\n",
    "# mod_params['representation/~/mlp/~/linear_0']['b'] = jnp.array([ 0.4359,  0.4771,  0.2069, -0.0961, -0.0662, -0.2580, -0.0164, -0.2669])"
   ]
  }
 ],
 "metadata": {
  "kernelspec": {
   "display_name": "Python 3 (ipykernel)",
   "language": "python",
   "name": "python3"
  },
  "language_info": {
   "codemirror_mode": {
    "name": "ipython",
    "version": 3
   },
   "file_extension": ".py",
   "mimetype": "text/x-python",
   "name": "python",
   "nbconvert_exporter": "python",
   "pygments_lexer": "ipython3",
   "version": "3.7.11"
  }
 },
 "nbformat": 4,
 "nbformat_minor": 5
}
